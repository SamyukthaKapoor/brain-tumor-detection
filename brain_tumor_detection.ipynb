{
  "nbformat": 4,
  "nbformat_minor": 0,
  "metadata": {
    "colab": {
      "name": "brain tumor detection.ipynb",
      "provenance": [],
      "mount_file_id": "16lZNnIuGMoIazEI54IrOzXkGXlJUGW9w",
      "authorship_tag": "ABX9TyP7mMEy3i7NeiSWwjl2Jikh",
      "include_colab_link": true
    },
    "kernelspec": {
      "name": "python3",
      "display_name": "Python 3"
    },
    "language_info": {
      "name": "python"
    },
    "accelerator": "GPU"
  },
  "cells": [
    {
      "cell_type": "markdown",
      "metadata": {
        "id": "view-in-github",
        "colab_type": "text"
      },
      "source": [
        "<a href=\"https://colab.research.google.com/github/sairamadithya/brain-tumor-detection/blob/main/brain_tumor_detection.ipynb\" target=\"_parent\"><img src=\"https://colab.research.google.com/assets/colab-badge.svg\" alt=\"Open In Colab\"/></a>"
      ]
    },
    {
      "cell_type": "markdown",
      "source": [
        "this code is about developing a website for detecting brain tumor from the given MRI image using CNN.\n",
        "\n",
        "# IMPORTING LIBRARIES"
      ],
      "metadata": {
        "id": "8gFidxGFt-S8"
      }
    },
    {
      "cell_type": "code",
      "execution_count": 1,
      "metadata": {
        "id": "UebpAyvNIBIe"
      },
      "outputs": [],
      "source": [
        "import numpy as np\n",
        "import numpy as np\n",
        "import pandas as pd\n",
        "import matplotlib.pyplot as plt\n",
        "import tensorflow as tf\n",
        "from keras import Sequential\n",
        "from tensorflow.keras.layers import *\n",
        "from tensorflow.keras.models import * \n",
        "from tensorflow.keras.preprocessing import image"
      ]
    },
    {
      "cell_type": "markdown",
      "source": [
        "I am using a dataset that contains about 400 brain tumor and normal MRI images.\n",
        "\n",
        "I have used imagedatagenerator to generate samples from the image dataset by applying the specified transforms."
      ],
      "metadata": {
        "id": "upL5q3kpueAQ"
      }
    },
    {
      "cell_type": "code",
      "source": [
        "train_datagen = image.ImageDataGenerator(\n",
        "    rotation_range=15,\n",
        "    shear_range=0.2,\n",
        "    zoom_range=0.2,\n",
        "    horizontal_flip=True,\n",
        "    fill_mode='nearest',\n",
        "    width_shift_range=0.1,\n",
        "    height_shift_range=0.1\n",
        ")\n",
        "test_datagen= image.ImageDataGenerator(    rotation_range=15,\n",
        "    shear_range=0.2,\n",
        "    zoom_range=0.2,\n",
        "    horizontal_flip=True,\n",
        "    fill_mode='nearest',\n",
        "    width_shift_range=0.1,\n",
        "    height_shift_range=0.1)"
      ],
      "metadata": {
        "id": "1fLCAXLHIvfG"
      },
      "execution_count": 2,
      "outputs": []
    },
    {
      "cell_type": "code",
      "source": [
        "train_generator = train_datagen.flow_from_directory(\n",
        "    '/content/drive/MyDrive/Brain_tumor_images/train',\n",
        "    target_size = (224,224),\n",
        "    batch_size = 8,\n",
        "    class_mode = 'binary')\n",
        "validation_generator = test_datagen.flow_from_directory(\n",
        "    '/content/drive/MyDrive/Brain_tumor_images/val',\n",
        "    target_size = (224,224),\n",
        "    batch_size = 8,\n",
        "    shuffle=True,\n",
        "    class_mode = 'binary')"
      ],
      "metadata": {
        "colab": {
          "base_uri": "https://localhost:8080/"
        },
        "id": "dLaaZIttLcpj",
        "outputId": "f861fcc8-41f4-4bc7-ccc8-1d7f5ebc3ed9"
      },
      "execution_count": 3,
      "outputs": [
        {
          "output_type": "stream",
          "name": "stdout",
          "text": [
            "Found 300 images belonging to 2 classes.\n",
            "Found 100 images belonging to 2 classes.\n"
          ]
        }
      ]
    },
    {
      "cell_type": "markdown",
      "source": [
        "I have developed a transfer learning based EfficientNetB2 CNN model for this task. I have added certain other layers to overcome the problem of overfitting."
      ],
      "metadata": {
        "id": "9FtZFfjjwVaJ"
      }
    },
    {
      "cell_type": "code",
      "source": [
        "base_model = tf.keras.applications.EfficientNetB2(weights='imagenet', input_shape=(224,224,3), include_top=False)\n",
        "\n",
        "for layer in base_model.layers:\n",
        "    layer.trainable=True\n",
        "model = Sequential()\n",
        "model.add(base_model)\n",
        "model.add(GaussianNoise(0.25))\n",
        "model.add(GlobalAveragePooling2D())\n",
        "model.add(Dense(1024,activation='relu'))\n",
        "model.add(BatchNormalization())\n",
        "model.add(GaussianNoise(0.25))\n",
        "model.add(Dropout(0.25))\n",
        "model.add(Dense(1, activation='sigmoid'))\n",
        "model.summary()"
      ],
      "metadata": {
        "colab": {
          "base_uri": "https://localhost:8080/"
        },
        "id": "bbAKNkxQLm2h",
        "outputId": "268ced54-7d98-4cad-cdb2-0ccdff7dceef"
      },
      "execution_count": 4,
      "outputs": [
        {
          "output_type": "stream",
          "name": "stdout",
          "text": [
            "Downloading data from https://storage.googleapis.com/keras-applications/efficientnetb2_notop.h5\n",
            "31793152/31790344 [==============================] - 0s 0us/step\n",
            "31801344/31790344 [==============================] - 0s 0us/step\n",
            "Model: \"sequential\"\n",
            "_________________________________________________________________\n",
            " Layer (type)                Output Shape              Param #   \n",
            "=================================================================\n",
            " efficientnetb2 (Functional)  (None, 7, 7, 1408)       7768569   \n",
            "                                                                 \n",
            " gaussian_noise (GaussianNoi  (None, 7, 7, 1408)       0         \n",
            " se)                                                             \n",
            "                                                                 \n",
            " global_average_pooling2d (G  (None, 1408)             0         \n",
            " lobalAveragePooling2D)                                          \n",
            "                                                                 \n",
            " dense (Dense)               (None, 1024)              1442816   \n",
            "                                                                 \n",
            " batch_normalization (BatchN  (None, 1024)             4096      \n",
            " ormalization)                                                   \n",
            "                                                                 \n",
            " gaussian_noise_1 (GaussianN  (None, 1024)             0         \n",
            " oise)                                                           \n",
            "                                                                 \n",
            " dropout (Dropout)           (None, 1024)              0         \n",
            "                                                                 \n",
            " dense_1 (Dense)             (None, 1)                 1025      \n",
            "                                                                 \n",
            "=================================================================\n",
            "Total params: 9,216,506\n",
            "Trainable params: 9,146,883\n",
            "Non-trainable params: 69,623\n",
            "_________________________________________________________________\n"
          ]
        }
      ]
    },
    {
      "cell_type": "markdown",
      "source": [
        "I have compiled the model using crossentropy loss function, adam optimiser and the following metrics:-\n",
        "\n",
        "accuracy\n",
        "\n",
        "AUC\n",
        "\n",
        "precision\n",
        "\n",
        "recall"
      ],
      "metadata": {
        "id": "kqbPrTb6w3ye"
      }
    },
    {
      "cell_type": "code",
      "source": [
        "model.compile(loss='binary_crossentropy',\n",
        "              optimizer=tf.keras.optimizers.Adam(learning_rate=0.00001),\n",
        "              metrics=['accuracy','AUC','Precision','Recall'])"
      ],
      "metadata": {
        "id": "xWh4XiimLzVF"
      },
      "execution_count": 5,
      "outputs": []
    },
    {
      "cell_type": "code",
      "source": [
        "history = model.fit(\n",
        "    train_generator,\n",
        "    epochs=30,\n",
        "    validation_data=validation_generator,\n",
        "    steps_per_epoch= 35\n",
        "    )"
      ],
      "metadata": {
        "colab": {
          "base_uri": "https://localhost:8080/"
        },
        "id": "gF6sADgkMGrr",
        "outputId": "32bcfcf9-cba4-41d0-d070-3cc597ccbdf3"
      },
      "execution_count": 6,
      "outputs": [
        {
          "output_type": "stream",
          "name": "stdout",
          "text": [
            "Epoch 1/30\n",
            "35/35 [==============================] - 88s 2s/step - loss: 0.9453 - accuracy: 0.5072 - auc: 0.5161 - precision: 0.5541 - recall: 0.5395 - val_loss: 0.6757 - val_accuracy: 0.6000 - val_auc: 0.5310 - val_precision: 0.6528 - val_recall: 0.7581\n",
            "Epoch 2/30\n",
            "35/35 [==============================] - 12s 349ms/step - loss: 0.6848 - accuracy: 0.6630 - auc: 0.6998 - precision: 0.7143 - recall: 0.6536 - val_loss: 0.6251 - val_accuracy: 0.6700 - val_auc: 0.7088 - val_precision: 0.7231 - val_recall: 0.7581\n",
            "Epoch 3/30\n",
            "35/35 [==============================] - 12s 339ms/step - loss: 0.5999 - accuracy: 0.7210 - auc: 0.7818 - precision: 0.8045 - recall: 0.6772 - val_loss: 0.5958 - val_accuracy: 0.7000 - val_auc: 0.7649 - val_precision: 0.7500 - val_recall: 0.7742\n",
            "Epoch 4/30\n",
            "35/35 [==============================] - 12s 329ms/step - loss: 0.5418 - accuracy: 0.7500 - auc: 0.8199 - precision: 0.8248 - recall: 0.7152 - val_loss: 0.5470 - val_accuracy: 0.8000 - val_auc: 0.8652 - val_precision: 0.8500 - val_recall: 0.8226\n",
            "Epoch 5/30\n",
            "35/35 [==============================] - 14s 401ms/step - loss: 0.5274 - accuracy: 0.7681 - auc: 0.8430 - precision: 0.8394 - recall: 0.7325 - val_loss: 0.5290 - val_accuracy: 0.8200 - val_auc: 0.8589 - val_precision: 0.8438 - val_recall: 0.8710\n",
            "Epoch 6/30\n",
            "35/35 [==============================] - 13s 361ms/step - loss: 0.4197 - accuracy: 0.7862 - auc: 0.8893 - precision: 0.7974 - recall: 0.8133 - val_loss: 0.4900 - val_accuracy: 0.8100 - val_auc: 0.9083 - val_precision: 0.9216 - val_recall: 0.7581\n",
            "Epoch 7/30\n",
            "35/35 [==============================] - 12s 341ms/step - loss: 0.3764 - accuracy: 0.8214 - auc: 0.9155 - precision: 0.8690 - recall: 0.8025 - val_loss: 0.4449 - val_accuracy: 0.8500 - val_auc: 0.9104 - val_precision: 0.8730 - val_recall: 0.8871\n",
            "Epoch 8/30\n",
            "35/35 [==============================] - 12s 328ms/step - loss: 0.3396 - accuracy: 0.8587 - auc: 0.9333 - precision: 0.8958 - recall: 0.8431 - val_loss: 0.4188 - val_accuracy: 0.8600 - val_auc: 0.9187 - val_precision: 0.9286 - val_recall: 0.8387\n",
            "Epoch 9/30\n",
            "35/35 [==============================] - 12s 329ms/step - loss: 0.3744 - accuracy: 0.8188 - auc: 0.9149 - precision: 0.8732 - recall: 0.7949 - val_loss: 0.3990 - val_accuracy: 0.8600 - val_auc: 0.9438 - val_precision: 0.9286 - val_recall: 0.8387\n",
            "Epoch 10/30\n",
            "35/35 [==============================] - 12s 330ms/step - loss: 0.3782 - accuracy: 0.8478 - auc: 0.9196 - precision: 0.9078 - recall: 0.8153 - val_loss: 0.4269 - val_accuracy: 0.7900 - val_auc: 0.9117 - val_precision: 0.8868 - val_recall: 0.7581\n",
            "Epoch 11/30\n",
            "35/35 [==============================] - 12s 328ms/step - loss: 0.3515 - accuracy: 0.8514 - auc: 0.9273 - precision: 0.8881 - recall: 0.8355 - val_loss: 0.3590 - val_accuracy: 0.8800 - val_auc: 0.9414 - val_precision: 0.9808 - val_recall: 0.8226\n",
            "Epoch 12/30\n",
            "35/35 [==============================] - 12s 336ms/step - loss: 0.2783 - accuracy: 0.8913 - auc: 0.9575 - precision: 0.9247 - recall: 0.8766 - val_loss: 0.3618 - val_accuracy: 0.8500 - val_auc: 0.9196 - val_precision: 0.8983 - val_recall: 0.8548\n",
            "Epoch 13/30\n",
            "35/35 [==============================] - 13s 371ms/step - loss: 0.2765 - accuracy: 0.8841 - auc: 0.9552 - precision: 0.9116 - recall: 0.8758 - val_loss: 0.3723 - val_accuracy: 0.8300 - val_auc: 0.9177 - val_precision: 0.9091 - val_recall: 0.8065\n",
            "Epoch 14/30\n",
            "35/35 [==============================] - 12s 341ms/step - loss: 0.2737 - accuracy: 0.8804 - auc: 0.9582 - precision: 0.9286 - recall: 0.8497 - val_loss: 0.3373 - val_accuracy: 0.9000 - val_auc: 0.9397 - val_precision: 0.9643 - val_recall: 0.8710\n",
            "Epoch 15/30\n",
            "35/35 [==============================] - 12s 336ms/step - loss: 0.3272 - accuracy: 0.8551 - auc: 0.9336 - precision: 0.8667 - recall: 0.8667 - val_loss: 0.2777 - val_accuracy: 0.8700 - val_auc: 0.9620 - val_precision: 0.9455 - val_recall: 0.8387\n",
            "Epoch 16/30\n",
            "35/35 [==============================] - 12s 335ms/step - loss: 0.2613 - accuracy: 0.9022 - auc: 0.9598 - precision: 0.9424 - recall: 0.8733 - val_loss: 0.2367 - val_accuracy: 0.8800 - val_auc: 0.9775 - val_precision: 0.9464 - val_recall: 0.8548\n",
            "Epoch 17/30\n",
            "35/35 [==============================] - 12s 336ms/step - loss: 0.2997 - accuracy: 0.8732 - auc: 0.9511 - precision: 0.9225 - recall: 0.8452 - val_loss: 0.2744 - val_accuracy: 0.8900 - val_auc: 0.9569 - val_precision: 0.9322 - val_recall: 0.8871\n",
            "Epoch 18/30\n",
            "35/35 [==============================] - 12s 354ms/step - loss: 0.1802 - accuracy: 0.9348 - auc: 0.9802 - precision: 0.9276 - recall: 0.9527 - val_loss: 0.2992 - val_accuracy: 0.8900 - val_auc: 0.9518 - val_precision: 0.9811 - val_recall: 0.8387\n",
            "Epoch 19/30\n",
            "35/35 [==============================] - 12s 335ms/step - loss: 0.2383 - accuracy: 0.9130 - auc: 0.9715 - precision: 0.9648 - recall: 0.8782 - val_loss: 0.3482 - val_accuracy: 0.8800 - val_auc: 0.9291 - val_precision: 0.9630 - val_recall: 0.8387\n",
            "Epoch 20/30\n",
            "35/35 [==============================] - 12s 336ms/step - loss: 0.2246 - accuracy: 0.9130 - auc: 0.9697 - precision: 0.9396 - recall: 0.9032 - val_loss: 0.2379 - val_accuracy: 0.9100 - val_auc: 0.9726 - val_precision: 0.9818 - val_recall: 0.8710\n",
            "Epoch 21/30\n",
            "35/35 [==============================] - 12s 334ms/step - loss: 0.2285 - accuracy: 0.9094 - auc: 0.9701 - precision: 0.9571 - recall: 0.8758 - val_loss: 0.2776 - val_accuracy: 0.8900 - val_auc: 0.9720 - val_precision: 0.9811 - val_recall: 0.8387\n",
            "Epoch 22/30\n",
            "35/35 [==============================] - 12s 334ms/step - loss: 0.1426 - accuracy: 0.9457 - auc: 0.9914 - precision: 0.9724 - recall: 0.9276 - val_loss: 0.2254 - val_accuracy: 0.8700 - val_auc: 0.9890 - val_precision: 1.0000 - val_recall: 0.7903\n",
            "Epoch 23/30\n",
            "35/35 [==============================] - 12s 334ms/step - loss: 0.2601 - accuracy: 0.8986 - auc: 0.9650 - precision: 0.9379 - recall: 0.8774 - val_loss: 0.2182 - val_accuracy: 0.9200 - val_auc: 0.9866 - val_precision: 0.9821 - val_recall: 0.8871\n",
            "Epoch 24/30\n",
            "35/35 [==============================] - 12s 340ms/step - loss: 0.1943 - accuracy: 0.9250 - auc: 0.9771 - precision: 0.9427 - recall: 0.9250 - val_loss: 0.2314 - val_accuracy: 0.9200 - val_auc: 0.9811 - val_precision: 1.0000 - val_recall: 0.8710\n",
            "Epoch 25/30\n",
            "35/35 [==============================] - 12s 346ms/step - loss: 0.1907 - accuracy: 0.9312 - auc: 0.9809 - precision: 0.9722 - recall: 0.9032 - val_loss: 0.1492 - val_accuracy: 0.9700 - val_auc: 0.9947 - val_precision: 1.0000 - val_recall: 0.9516\n",
            "Epoch 26/30\n",
            "35/35 [==============================] - 12s 336ms/step - loss: 0.2535 - accuracy: 0.9058 - auc: 0.9677 - precision: 0.9574 - recall: 0.8710 - val_loss: 0.1732 - val_accuracy: 0.9200 - val_auc: 0.9970 - val_precision: 1.0000 - val_recall: 0.8710\n",
            "Epoch 27/30\n",
            "35/35 [==============================] - 12s 339ms/step - loss: 0.1590 - accuracy: 0.9420 - auc: 0.9828 - precision: 0.9600 - recall: 0.9351 - val_loss: 0.0978 - val_accuracy: 0.9600 - val_auc: 1.0000 - val_precision: 1.0000 - val_recall: 0.9355\n",
            "Epoch 28/30\n",
            "35/35 [==============================] - 12s 336ms/step - loss: 0.1546 - accuracy: 0.9457 - auc: 0.9834 - precision: 0.9658 - recall: 0.9338 - val_loss: 0.2022 - val_accuracy: 0.9400 - val_auc: 0.9860 - val_precision: 0.9828 - val_recall: 0.9194\n",
            "Epoch 29/30\n",
            "35/35 [==============================] - 12s 336ms/step - loss: 0.1993 - accuracy: 0.9312 - auc: 0.9767 - precision: 0.9530 - recall: 0.9221 - val_loss: 0.0994 - val_accuracy: 0.9500 - val_auc: 0.9996 - val_precision: 1.0000 - val_recall: 0.9194\n",
            "Epoch 30/30\n",
            "35/35 [==============================] - 12s 331ms/step - loss: 0.1500 - accuracy: 0.9275 - auc: 0.9883 - precision: 0.9595 - recall: 0.9103 - val_loss: 0.0975 - val_accuracy: 0.9600 - val_auc: 0.9987 - val_precision: 0.9833 - val_recall: 0.9516\n"
          ]
        }
      ]
    },
    {
      "cell_type": "markdown",
      "source": [
        "the model has produced the following results:\n",
        "\n",
        "training accuracy= 99.0%\n",
        "\n",
        "training loss= 0.0518\n",
        "\n",
        "training precision= 100%\n",
        "\n",
        "training recall= 98.21%\n",
        "\n",
        "training AUC= 0.9995"
      ],
      "metadata": {
        "id": "_CYJrfRgxpuM"
      }
    },
    {
      "cell_type": "code",
      "source": [
        "model.evaluate(train_generator)"
      ],
      "metadata": {
        "colab": {
          "base_uri": "https://localhost:8080/"
        },
        "id": "xyxmIfWxMO1d",
        "outputId": "0e1840e9-bd37-46a3-856a-61f838694e35"
      },
      "execution_count": 7,
      "outputs": [
        {
          "output_type": "stream",
          "name": "stdout",
          "text": [
            "38/38 [==============================] - 6s 155ms/step - loss: 0.0518 - accuracy: 0.9900 - auc: 0.9995 - precision: 1.0000 - recall: 0.9821\n"
          ]
        },
        {
          "output_type": "execute_result",
          "data": {
            "text/plain": [
              "[0.05183592811226845,\n",
              " 0.9900000095367432,\n",
              " 0.9995490312576294,\n",
              " 1.0,\n",
              " 0.9821428656578064]"
            ]
          },
          "metadata": {},
          "execution_count": 7
        }
      ]
    },
    {
      "cell_type": "markdown",
      "source": [
        "the model has produced the following results:\n",
        "\n",
        "validation accuracy= 92.00%\n",
        "\n",
        "validation loss= 0.1492\n",
        "\n",
        "validation precision= 98.21%\n",
        "\n",
        "validation recall= 88.71%\n",
        "\n",
        "validation AUC= 0.9936"
      ],
      "metadata": {
        "id": "89FO_ztm25kb"
      }
    },
    {
      "cell_type": "code",
      "source": [
        "model.evaluate(validation_generator)"
      ],
      "metadata": {
        "colab": {
          "base_uri": "https://localhost:8080/"
        },
        "id": "AkIv0xE0O_SH",
        "outputId": "6bac125a-d4d3-4f93-ee23-f209385b90b8"
      },
      "execution_count": 8,
      "outputs": [
        {
          "output_type": "stream",
          "name": "stdout",
          "text": [
            "13/13 [==============================] - 2s 146ms/step - loss: 0.1492 - accuracy: 0.9200 - auc: 0.9936 - precision: 0.9821 - recall: 0.8871\n"
          ]
        },
        {
          "output_type": "execute_result",
          "data": {
            "text/plain": [
              "[0.14919380843639374,\n",
              " 0.9200000166893005,\n",
              " 0.9936332702636719,\n",
              " 0.9821428656578064,\n",
              " 0.8870967626571655]"
            ]
          },
          "metadata": {},
          "execution_count": 8
        }
      ]
    },
    {
      "cell_type": "code",
      "source": [
        "from keras.preprocessing import image\n",
        "img = image.load_img('/content/drive/MyDrive/Brain_tumor_images/val/normal/Normal (135).jpg',target_size=(224,224))\n",
        "imag = image.img_to_array(img)\n",
        "imaga = np.expand_dims(imag,axis=0) \n",
        "ypred = model.predict(imaga)\n",
        "print(ypred)\n",
        "a=ypred[0]\n",
        "if a<0.5:\n",
        "  op='normal (devoid of tumor)'\n",
        "else:\n",
        "  op= 'brain tumor'    \n",
        "plt.imshow(img)\n",
        "print(\"THE UPLOADED IMAGE IS SUSPECTED AS: \"+str(op))  \n"
      ],
      "metadata": {
        "colab": {
          "base_uri": "https://localhost:8080/",
          "height": 304
        },
        "id": "1OPXnTEbPCjd",
        "outputId": "75e92610-7e0c-4fc8-8c51-eb59943bc23c"
      },
      "execution_count": 9,
      "outputs": [
        {
          "output_type": "stream",
          "name": "stdout",
          "text": [
            "[[0.00193358]]\n",
            "THE UPLOADED IMAGE IS SUSPECTED AS: normal (devoid of tumor)\n"
          ]
        },
        {
          "output_type": "display_data",
          "data": {
            "text/plain": [
              "<Figure size 432x288 with 1 Axes>"
            ],
            "image/png": "[encoded data removed]"
          },
          "metadata": {
            "needs_background": "light"
          }
        }
      ]
    },
    {
      "cell_type": "code",
      "source": [
        "tf.keras.models.save_model(model,'brain_tumor.hdf5')"
      ],
      "metadata": {
        "id": "o_lYG3TxQuFq"
      },
      "execution_count": 10,
      "outputs": []
    },
    {
      "cell_type": "code",
      "source": [
        "!pip install streamlit"
      ],
      "metadata": {
        "id": "PstOe3ZnRpkP"
      },
      "execution_count": null,
      "outputs": []
    },
    {
      "cell_type": "markdown",
      "source": [
        "I have developed the frontend for the website that accepts the MRI image from the user in the form of JPG, PNG or JPEG and then detects brain tumor in the given MRI image."
      ],
      "metadata": {
        "id": "TnFcbhKd3xcQ"
      }
    },
    {
      "cell_type": "code",
      "source": [
        "%%writefile app.py\n",
        "import streamlit as st\n",
        "import tensorflow as tf\n",
        "import streamlit as st\n",
        "from tensorflow.keras.preprocessing import image\n",
        "from PIL import Image, ImageOps\n",
        "import pandas as pd\n",
        "import cv2\n",
        "import numpy as np\n",
        "\n",
        "\n",
        "html_temp = \"\"\" \n",
        "  <div style=\"background-color:pink ;padding:10px\">\n",
        "  <h2 style=\"color:white;text-align:center;\"> BRAIN TUMOR DETECTION USING MRI IMAGES ⚕️⚕️⚕️</h2>\n",
        "  </div>\n",
        "  \"\"\" \n",
        "st.markdown(html_temp, unsafe_allow_html=True) \n",
        "st.header('Done by Sairam Adithya')\n",
        "st.write('This website is about the detection of brain tumor using MRI images. Presence of tumor in the brain is difficult to diagnose and its presence is noted through symptoms like reccurent headache and so on. MRI is one of the meedical imaging technologies that can be adapted to visualise the tumor effectively.')\n",
        "st.write('Cancer is a medical condition which is due to abnormal, uncontrollable, uncoordinated division of cells.')\n",
        "imag = Image.open('tumor.jpeg')\n",
        "st.image(imag, use_column_width=False)\n",
        "st.write('A brain tumor is a collection, or mass, of abnormal cells in your brain. Your skull, which encloses your brain, is very rigid. Any growth inside such a restricted space can cause problems. Brain tumors can be cancerous (malignant) or noncancerous (benign)')\n",
        "st.write('Magnetic resonance imaging (MRI) is a medical imaging technique that uses a magnetic field and computer-generated radio waves to create detailed images of the organs and tissues in your body. Most MRI machines are large, tube-shaped magnets.')\n",
        "image = Image.open('mri.jpeg')\n",
        "st.image(image, use_column_width=False)\n",
        "st.write('Please upload the MRI image file in the given browse file button.')\n",
        "@st.cache(allow_output_mutation=True)\n",
        "def load_model():\n",
        "   model=tf.keras.models.load_model('/content/brain_tumor.hdf5')\n",
        "   return model\n",
        "with st.spinner('Model is being loaded..'):\n",
        "    model=load_model()\n",
        "file = st.file_uploader(\"Please upload any image from the local machine in case of computer or upload camera image in case of mobile.\", type=[\"jpg\", \"png\",\"jpeg\"])\n",
        "st.set_option('deprecation.showfileUploaderEncoding', False)\n",
        "def import_and_predict(image_data, model):   \n",
        "        size = (224,224)    \n",
        "        image = ImageOps.fit(image_data, size, Image.ANTIALIAS)\n",
        "        image = np.asarray(image)\n",
        "        img = cv2.cvtColor(image, cv2.COLOR_BGR2RGB)\n",
        "        #img_resize = (cv2.resize(img, dsize=(75, 75),    interpolation=cv2.INTER_CUBIC))/255.\n",
        "        \n",
        "        img_reshape = img[np.newaxis,...]\n",
        "    \n",
        "        prediction = model.predict(img_reshape)\n",
        "        return prediction\n",
        "if file is None:\n",
        "     st.text(\"Please upload an image file within the allotted file size\")\n",
        "else:\n",
        "     img = Image.open(file)\n",
        "     st.image(img, use_column_width=False)\n",
        "     size = (224,224)    \n",
        "     image = ImageOps.fit(img, size, Image.ANTIALIAS)\n",
        "     imag = np.asarray(image)\n",
        "     imaga = np.expand_dims(imag,axis=0) \n",
        "     predictions = model.predict(imaga)\n",
        "     #predictions = import_and_predict(image, model)\n",
        "     a=predictions[0]\n",
        "     if a<0.5:\n",
        "       st.success('The subject under observation is devoid of brain tumor. Please ensure that you consult with a professional before pursuing any kinds of treatment.')\n",
        "       #st.warning('the model is only 75% accurate. this is the beta version of the model. Futher enhancements has to made to get the best results.')\n",
        "     else:\n",
        "       st.error('The subject under observation is suspected to have brain tumor. Please ensure that you consult with a professional or confirm with the other modalities present in the tool.')\n",
        "       #st.warning('the model is only 75% accurate. this is the beta version of the model. Futher enhancements has to made to get the best results.')        "
      ],
      "metadata": {
        "colab": {
          "base_uri": "https://localhost:8080/"
        },
        "id": "2jxjbH5YRru-",
        "outputId": "9834a768-b4fe-470f-e1d3-a17c288d496c"
      },
      "execution_count": 18,
      "outputs": [
        {
          "output_type": "stream",
          "name": "stdout",
          "text": [
            "Overwriting app.py\n"
          ]
        }
      ]
    },
    {
      "cell_type": "code",
      "source": [
        "!streamlit run app.py & npx localtunnel --port 8501"
      ],
      "metadata": {
        "colab": {
          "base_uri": "https://localhost:8080/"
        },
        "id": "nQce1__PSeTc",
        "outputId": "c18d5f2d-20b9-40ea-e066-48c7a10d95b0"
      },
      "execution_count": 19,
      "outputs": [
        {
          "output_type": "stream",
          "name": "stdout",
          "text": [
            "2022-03-13 05:07:08.382 INFO    numexpr.utils: NumExpr defaulting to 2 threads.\n",
            "\u001b[K\u001b[?25h\u001b[0m\n",
            "\u001b[34m\u001b[1m  You can now view your Streamlit app in your browser.\u001b[0m\n",
            "\u001b[0m\n",
            "\u001b[34m  Network URL: \u001b[0m\u001b[1mhttp://172.28.0.2:8501\u001b[0m\n",
            "\u001b[34m  External URL: \u001b[0m\u001b[1mhttp://34.69.32.56:8501\u001b[0m\n",
            "\u001b[0m\n",
            "npx: installed 22 in 3.51s\n",
            "your url is: https://giant-lion-28.loca.lt\n",
            "2022-03-13 05:08:58.467117: W tensorflow/core/common_runtime/gpu/gpu_bfc_allocator.cc:39] Overriding allow_growth setting because the TF_FORCE_GPU_ALLOW_GROWTH environment variable is set. Original config value was 0.\n",
            "\u001b[34m  Stopping...\u001b[0m\n",
            "^C\n"
          ]
        }
      ]
    }
  ]
}